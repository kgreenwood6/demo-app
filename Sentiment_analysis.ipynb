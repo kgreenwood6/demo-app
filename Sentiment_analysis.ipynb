{
 "cells": [
  {
   "cell_type": "code",
   "execution_count": null,
   "metadata": {},
   "outputs": [],
   "source": [
    "import pandas as pd\n",
    "import numpy as np\n",
    "import matplotlib.pyplot as plt\n",
    "\n",
    "import nltk\n",
    "nltk.download('averaged_perceptron_tagger')\n",
    "nltk.download('maxent_ne_chunker')\n",
    "nltk.download('punkt')\n",
    "nltk.download('words')\n",
    "\n",
    "from tqdm import tqdm\n",
    "\n",
    "from langdetect import detect\n",
    "\n",
    "# Roberta Usage\n",
    "import torch\n",
    "import scipy\n",
    "import transformers\n",
    "\n",
    "from transformers import AutoTokenizer\n",
    "from transformers import AutoModelForSequenceClassification\n",
    "from scipy.special import softmax\n",
    "\n",
    "from transformers import pipeline\n",
    "from nltk.tokenize import sent_tokenize"
   ]
  },
  {
   "cell_type": "code",
   "execution_count": 2,
   "metadata": {},
   "outputs": [],
   "source": [
    "#Import english_books dataset for genre filtering\n",
    "df = pd.read_feather('english-books.feather')  # dataset containing genre's to book_id's\n",
    "df_reviews = pd.read_csv('df_reviews_large.csv') #15 mil dataset containg reviews, book_id's and review_id's\n",
    "\n",
    "#List of genres\n",
    "df_genres = df['genres'].unique()\n",
    "\n",
    "#Filter for specific genre i.e 'poetry'\n",
    "filtered_df_poetry = df[df['genres'].str.contains('poetry')]\n",
    "\n",
    "#Retrieve all book_id's associated with the genre\n",
    "df_poetry_bookids = filtered_df_poetry['book_id'].unique().tolist()\n",
    "\n",
    "df_poetry_bookids \n",
    "poetry_bookids = [int(id) for id in df_poetry_bookids]\n",
    "\n",
    "# #Using the list of book_id's filter out all rows for Id's in list.\n",
    "filtered_df_poetry = df_reviews[df_reviews['book_id'].isin(poetry_bookids)]\n",
    "\n",
    "filtered_df_poetry.to_csv('filtered_df_poetry.csv', header=True, index=False)\n"
   ]
  },
  {
   "cell_type": "markdown",
   "metadata": {},
   "source": [
    "Apply english filtering to reviews"
   ]
  },
  {
   "cell_type": "code",
   "execution_count": 3,
   "metadata": {},
   "outputs": [],
   "source": [
    "df = pd.read_csv('filtered_df_poetry.csv')\n",
    "def detect_language(text):\n",
    "    try:\n",
    "        return detect(text)\n",
    "    except:\n",
    "        return None\n",
    "    \n",
    "tqdm.pandas()\n",
    "df['language'] = df['review_text'].apply(detect_language)\n",
    "\n",
    "# Filter for English text\n",
    "df_english = df[df['language'] == 'en']\n",
    "\n",
    "df_english.to_csv('filtered_df_poetry_ready.csv', header=True, index=False)\n"
   ]
  },
  {
   "cell_type": "markdown",
   "metadata": {},
   "source": [
    "Running Sentiment analysis"
   ]
  },
  {
   "cell_type": "code",
   "execution_count": null,
   "metadata": {},
   "outputs": [],
   "source": [
    "df = pd.read_csv(\"filtered_df_poetry_ready.csv\")\n",
    "df = df.reset_index(drop=True)\n",
    "\n",
    "sentiment_classifier = pipeline(\"sentiment-analysis\", model = \"cardiffnlp/twitter-roberta-base-sentiment\")\n",
    "\n",
    "def sentiment_scores_cal(text):\n",
    "    try:\n",
    "        sentences = sent_tokenize(text)\n",
    "        sentiment_scores = []\n",
    "        for sentence in sentences:\n",
    "            result = sentiment_classifier(sentence)[0] \n",
    "            sentiment_scores.append((sentence, result['label'], result['score']))\n",
    "\n",
    "        average_score = sum(score for _, _, score in sentiment_scores) / len(sentiment_scores)\n",
    "        return average_score\n",
    "    except RuntimeError as e:\n",
    "        print(\"RuntimeError occurred:\", e)\n",
    "        return None  \n",
    "    \n",
    "\n",
    "chunk_size = 1000\n",
    "\n",
    "tqdm.pandas(desc=\"Calculating Sentiment Scores\")\n",
    "\n",
    "results_df = pd.DataFrame()\n",
    "\n",
    "with open('results.csv', 'a') as f:\n",
    "\n",
    "    for chunk in pd.read_csv(\"filtered_df_poetry_ready.csv\", chunksize=chunk_size):\n",
    "        processed_chunk = chunk.assign(sentiment_score=chunk['review_text'].progress_apply(sentiment_scores_cal))\n",
    "        results_df = pd.concat([results_df, processed_chunk], ignore_index=True)\n",
    "\n",
    "results_df.to_csv('df_poetryresults_fin.csv', header=True, index=False)"
   ]
  },
  {
   "cell_type": "markdown",
   "metadata": {},
   "source": [
    "Applying Sentiment weight to Ratings "
   ]
  },
  {
   "cell_type": "code",
   "execution_count": null,
   "metadata": {},
   "outputs": [],
   "source": [
    "df = pd.read_csv('df_poetryresults_fin.csv')\n",
    "\n",
    "#Calculate length of the review text\n",
    "df['text_length'] = df['review_text'].apply(lambda x: len(x.split()))\n",
    "columns = ['book_id', 'user_id','review_id', 'rating', 'sentiment_score', 'text_length', 'review_text']\n",
    "df = df[columns]\n",
    "df.head()"
   ]
  },
  {
   "cell_type": "code",
   "execution_count": 7,
   "metadata": {},
   "outputs": [],
   "source": [
    "#Adjust ratings down for differential on rating 5\n",
    "\n",
    "def adjust_rating(rating, sentiment_score, text_length, weight_rating=1.0, weight_sentiment=1.0, weight_length=0.5):\n",
    "    adjustment = 0.0\n",
    "\n",
    "\n",
    "    # Adjust for sentiment score ranges based on any rating\n",
    "    if sentiment_score <= 0.5:\n",
    "        adjustment -= weight_sentiment * 0.2     \n",
    "    elif 0.5 < sentiment_score <= 0.65:\n",
    "        adjustment += weight_sentiment * 0.14\n",
    "    elif 0.65 < sentiment_score <= 0.75:\n",
    "        adjustment += weight_sentiment * 0.12\n",
    "    elif 0.75 < sentiment_score <= 0.80:\n",
    "        adjustment += weight_sentiment * 0.10\n",
    "    elif 0.80 < sentiment_score <= 0.85:\n",
    "        adjustment += weight_sentiment * 0.08\n",
    "    elif 0.85 < sentiment_score <= 0.90:\n",
    "        adjustment += weight_sentiment * 0.06\n",
    "    elif 0.90 < sentiment_score <= 0.95:\n",
    "        adjustment += weight_sentiment * 0.04\n",
    "    elif sentiment_score > 0.95:\n",
    "        adjustment += weight_sentiment * 0.02\n",
    "\n",
    "\n",
    "\n",
    "    # Adjust for text length\n",
    "    if text_length > 20:\n",
    "        adjustment -= weight_length * 0.1\n",
    "\n",
    "    # Apply adjustment to rating with weights\n",
    "    adjusted_rating = weight_rating * rating - adjustment\n",
    "\n",
    "    # Ensure the adjusted rating remains within a certain range (e.g., 0 to 5)\n",
    "    adjusted_rating = max(0, min(5, adjusted_rating))\n",
    "    \n",
    "    adjusted_rating = format(adjusted_rating, '.3f')\n",
    "    return adjusted_rating\n",
    "\n",
    "weight_rating = 1.0\n",
    "weight_sentiment = 1.0\n",
    "weight_length = 0.5\n",
    "\n",
    "# Create an empty list to store the adjusted ratings\n",
    "adjusted_ratings = []\n",
    "\n",
    "# Iterate over the rows of the DataFrame\n",
    "for index, row in df.iterrows():\n",
    "    adjusted_rating = adjust_rating(row['rating'], row['sentiment_score'], row['text_length'], weight_rating, weight_sentiment, weight_length)\n",
    "    adjusted_ratings.append(adjusted_rating)\n",
    "\n",
    "# Add the adjusted ratings to the DataFrame as a new column\n",
    "df['adjusted_rating'] = adjusted_ratings"
   ]
  },
  {
   "cell_type": "code",
   "execution_count": null,
   "metadata": {},
   "outputs": [],
   "source": [
    "#Store adjusted rating per review for colaborative filtereing\n",
    "df.to_csv('adjusted_rating_poetry.csv', header=True, index=False)"
   ]
  },
  {
   "cell_type": "code",
   "execution_count": 9,
   "metadata": {},
   "outputs": [],
   "source": [
    "#Calculate average rating per book_id for content based filtering\n",
    "df['adjusted_rating'] = df['adjusted_rating'].astype(float)\n",
    "average_ratings = df.groupby('book_id')['adjusted_rating'].mean()\n",
    "average_ratings = average_ratings.round(3)\n",
    "average_ratings_df = average_ratings.reset_index(name='average_adjusted_rating')"
   ]
  },
  {
   "cell_type": "code",
   "execution_count": null,
   "metadata": {},
   "outputs": [],
   "source": [
    "average_ratings_df.to_csv('average_adjusted_rating_book_id_poetry.csv', header=True, index=False)"
   ]
  }
 ],
 "metadata": {
  "kernelspec": {
   "display_name": "Python 3",
   "language": "python",
   "name": "python3"
  },
  "language_info": {
   "codemirror_mode": {
    "name": "ipython",
    "version": 3
   },
   "file_extension": ".py",
   "mimetype": "text/x-python",
   "name": "python",
   "nbconvert_exporter": "python",
   "pygments_lexer": "ipython3",
   "version": "3.9.18"
  },
  "orig_nbformat": 4
 },
 "nbformat": 4,
 "nbformat_minor": 2
}
